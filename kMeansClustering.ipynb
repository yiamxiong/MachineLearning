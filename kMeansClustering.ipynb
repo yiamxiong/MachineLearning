{
 "cells": [
  {
   "cell_type": "code",
   "execution_count": 5,
   "id": "73eb06cd-fdf4-4573-aa59-9acd31804d43",
   "metadata": {},
   "outputs": [
    {
     "name": "stdout",
     "output_type": "stream",
     "text": [
      "[[21.56023256  2.60465116]\n",
      " [11.01971014  1.97101449]\n",
      " [45.025       3.8       ]\n",
      " [34.67666667  3.38888889]\n",
      " [16.55805556  2.36111111]\n",
      " [27.3034375   3.4375    ]]\n"
     ]
    },
    {
     "name": "stderr",
     "output_type": "stream",
     "text": [
      "C:\\Python\\anaconda3\\Lib\\site-packages\\sklearn\\cluster\\_kmeans.py:1429: UserWarning: KMeans is known to have a memory leak on Windows with MKL, when there are less chunks than available threads. You can avoid it by setting the environment variable OMP_NUM_THREADS=1.\n",
      "  warnings.warn(\n"
     ]
    }
   ],
   "source": [
    "# Import libraries\n",
    "import pandas as pd\n",
    "from sklearn.cluster import KMeans\n",
    "import matplotlib.pyplot as plt\n",
    "%matplotlib inline\n",
    "\n",
    "# Import dataset\n",
    "df = pd.read_csv('https://raw.githubusercontent.com/mwaskom/seaborn-data/master/tips.csv')\n",
    "\n",
    "# Assign X variables\n",
    "X = df[['total_bill','size']]\n",
    "\n",
    "# Assign algorithm \n",
    "model = KMeans(n_clusters=6)\n",
    "\n",
    "# Fit algorithm to data\n",
    "model.fit(X)\n",
    "\n",
    "# Run algorithm\n",
    "model_predict = model.predict(X)\n",
    "centroids = model.cluster_centers_\n",
    "print(model.cluster_centers_) \n",
    "\n",
    "# Plot centroids and clusters\n",
    "plt.figure(figsize=(7,5))\n",
    "plt.scatter(X['total_bill'], X['size'], c=model_predict, s=50, cmap='rainbow')\n",
    "plt.scatter(centroids[:, 0], centroids[:, 1], c='black', s=200, alpha=1);\n"
   ]
  },
  {
   "cell_type": "code",
   "execution_count": null,
   "id": "e26b506f-3545-48cd-a708-a281456f3cf9",
   "metadata": {},
   "outputs": [],
   "source": []
  }
 ],
 "metadata": {
  "kernelspec": {
   "display_name": "Python [conda env:base] *",
   "language": "python",
   "name": "conda-base-py"
  },
  "language_info": {
   "codemirror_mode": {
    "name": "ipython",
    "version": 3
   },
   "file_extension": ".py",
   "mimetype": "text/x-python",
   "name": "python",
   "nbconvert_exporter": "python",
   "pygments_lexer": "ipython3",
   "version": "3.12.7"
  }
 },
 "nbformat": 4,
 "nbformat_minor": 5
}
